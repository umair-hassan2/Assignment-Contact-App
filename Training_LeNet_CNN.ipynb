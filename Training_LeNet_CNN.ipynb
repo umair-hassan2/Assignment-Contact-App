{
  "nbformat": 4,
  "nbformat_minor": 0,
  "metadata": {
    "colab": {
      "provenance": [],
      "gpuType": "T4",
      "authorship_tag": "ABX9TyNN68U2Jt6JXNuo+lWog+ic",
      "include_colab_link": true
    },
    "kernelspec": {
      "name": "python3",
      "display_name": "Python 3"
    },
    "language_info": {
      "name": "python"
    },
    "accelerator": "GPU"
  },
  "cells": [
    {
      "cell_type": "markdown",
      "metadata": {
        "id": "view-in-github",
        "colab_type": "text"
      },
      "source": [
        "<a href=\"https://colab.research.google.com/github/umair-hassan2/Assignment-Contact-App/blob/master/Training_LeNet_CNN.ipynb\" target=\"_parent\"><img src=\"https://colab.research.google.com/assets/colab-badge.svg\" alt=\"Open In Colab\"/></a>"
      ]
    },
    {
      "cell_type": "code",
      "execution_count": 2,
      "metadata": {
        "id": "67vMbESD3UXm"
      },
      "outputs": [],
      "source": [
        "import torch\n",
        "import torchvision\n",
        "import torchvision.transforms as transforms\n",
        "from torch.utils.data import DataLoader\n",
        "import matplotlib.pyplot as plt\n",
        "import numpy as np"
      ]
    },
    {
      "cell_type": "code",
      "source": [
        "device = torch.device('cuda:0' if torch.cuda.is_available() else 'cpu')"
      ],
      "metadata": {
        "id": "b8YKKLLlU_My"
      },
      "execution_count": 3,
      "outputs": []
    },
    {
      "cell_type": "code",
      "source": [
        "BATCH_SIZE=100\n",
        "TOTAL_EPOCHS=10\n",
        "MODEL_PATH=\"./cifar10_cnn.pth\""
      ],
      "metadata": {
        "id": "tyjU7Mb89TxX"
      },
      "execution_count": 4,
      "outputs": []
    },
    {
      "cell_type": "code",
      "source": [
        "transform = transforms.Compose([\n",
        "    transforms.ToTensor(),\n",
        "    transforms.Normalize(mean=(0.5, 0.5, 0.5), std=(0.5, 0.5, 0.5))\n",
        "    ])"
      ],
      "metadata": {
        "id": "YgIzOPR37ZS8"
      },
      "execution_count": 5,
      "outputs": []
    },
    {
      "cell_type": "code",
      "source": [
        "test_data = torchvision.datasets.CIFAR10(\n",
        "    train=False,\n",
        "    root=\"cifar10/data\",\n",
        "    transform=transform,\n",
        "    download=True\n",
        ")\n",
        "\n",
        "train_data = torchvision.datasets.CIFAR10(\n",
        "    train=True,\n",
        "    root=\"cifar10/data\",\n",
        "    transform=transform,\n",
        "    download=True\n",
        ")"
      ],
      "metadata": {
        "colab": {
          "base_uri": "https://localhost:8080/"
        },
        "id": "Q_ryOQRO5eMp",
        "outputId": "36e46896-1f75-47de-9ebd-443680db75bf"
      },
      "execution_count": 6,
      "outputs": [
        {
          "output_type": "stream",
          "name": "stderr",
          "text": [
            "100%|██████████| 170M/170M [00:05<00:00, 33.5MB/s]\n"
          ]
        }
      ]
    },
    {
      "cell_type": "code",
      "source": [
        "test_loader = DataLoader(test_data, batch_size=BATCH_SIZE, shuffle=True)\n",
        "train_loader = DataLoader(train_data, batch_size=BATCH_SIZE, shuffle=True)\n",
        "classes = test_data.classes"
      ],
      "metadata": {
        "id": "sNNhQSha88Px"
      },
      "execution_count": 7,
      "outputs": []
    },
    {
      "cell_type": "code",
      "source": [
        "def print_dataset_info(dataset, name=\"Dataset\"):\n",
        "    \"\"\"\n",
        "    Prints information about a dataset including total number of samples and image dimensions.\n",
        "\n",
        "    Args:\n",
        "        dataset (Union[np.ndarray, torch.Tensor]): The dataset, assumed to be in shape (N, C, H, W) or (N, H, W, C).\n",
        "        name (str): A label for the dataset (e.g., 'Train', 'Test').\n",
        "    \"\"\"\n",
        "    import torch\n",
        "    import numpy as np\n",
        "\n",
        "    if isinstance(dataset, (torch.Tensor, np.ndarray)):\n",
        "        shape = dataset.shape\n",
        "        if len(shape) != 4:\n",
        "            print(f\"{name} data has shape {shape} — expected 4D data (N, C/H, H/W, C).\")\n",
        "            return\n",
        "\n",
        "        n_samples = shape[0]\n",
        "        dims = \"x\".join(map(str, shape[1:]))\n",
        "        print(f\"{name} data has {n_samples} samples with dimensions = {dims}\")\n",
        "    else:\n",
        "        print(f\"Unsupported dataset type: {type(dataset)}\")"
      ],
      "metadata": {
        "id": "WYw2SQEo63K3"
      },
      "execution_count": 8,
      "outputs": []
    },
    {
      "cell_type": "code",
      "source": [
        "print_dataset_info(test_data.data, \"Test\")\n",
        "print_dataset_info(train_data.data, \"Train\")"
      ],
      "metadata": {
        "colab": {
          "base_uri": "https://localhost:8080/"
        },
        "id": "6srY8Zqt5vtH",
        "outputId": "093df5fe-6751-46b5-a778-4ead6abb4b86"
      },
      "execution_count": 9,
      "outputs": [
        {
          "output_type": "stream",
          "name": "stdout",
          "text": [
            "Test data has 10000 samples with dimensions = 32x32x3\n",
            "Train data has 50000 samples with dimensions = 32x32x3\n"
          ]
        }
      ]
    },
    {
      "cell_type": "code",
      "source": [
        "def visualize_image(image):\n",
        "  image = image/2 + 0.5\n",
        "  npimg = image.numpy()\n",
        "  plt.imshow(np.transpose(npimg, (1, 2, 0)))\n",
        "  plt.show()"
      ],
      "metadata": {
        "id": "lkmO9OvD7Fck"
      },
      "execution_count": 10,
      "outputs": []
    },
    {
      "cell_type": "code",
      "source": [
        "train_iter = iter(train_loader)\n",
        "images, labels = next(train_iter)\n",
        "# Only need 9 images to display\n",
        "images, labels = images[:9], labels[:9]\n",
        "visualize_image(torchvision.utils.make_grid(images))\n",
        "# print labels\n",
        "lbs = (f'{classes[label_index]}' for label_index in labels)\n",
        "print(', '.join(lbs))"
      ],
      "metadata": {
        "colab": {
          "base_uri": "https://localhost:8080/",
          "height": 229
        },
        "id": "dMTNzoxH-T5_",
        "outputId": "ad1c96c7-bfe8-4549-c2bc-7a3acfe3e1f9"
      },
      "execution_count": 11,
      "outputs": [
        {
          "output_type": "display_data",
          "data": {
            "text/plain": [
              "<Figure size 640x480 with 1 Axes>"
            ],
            "image/png": "[encoded data removed]"
          },
          "metadata": {}
        },
        {
          "output_type": "stream",
          "name": "stdout",
          "text": [
            "truck, cat, deer, truck, airplane, dog, automobile, cat, horse\n"
          ]
        }
      ]
    },
    {
      "cell_type": "code",
      "source": [
        "import torch.nn as nn\n",
        "import torch.nn.functional as F\n",
        "import torch.optim as optim"
      ],
      "metadata": {
        "id": "6rhyXfIgCyQs"
      },
      "execution_count": 12,
      "outputs": []
    },
    {
      "cell_type": "code",
      "source": [
        "class CNN(nn.Module):\n",
        "  def __init__(self):\n",
        "    super().__init__()\n",
        "    self.conv1 = nn.Conv2d(3, 16, 3)\n",
        "    self.pool = nn.MaxPool2d(2, 2)\n",
        "    self.conv2 = nn.Conv2d(16, 32, 3)\n",
        "    self.fc1 = nn.Linear(32 * 6 * 6, 120)\n",
        "    self.fc2 = nn.Linear(120, 84)\n",
        "    self.fc3 = nn.Linear(84, 10)\n",
        "\n",
        "  def forward(self, x):\n",
        "    x = self.pool(F.relu(self.conv1(x)))\n",
        "    x = self.pool(F.relu(self.conv2(x)))\n",
        "    x = torch.flatten(x, 1)\n",
        "    x = F.relu(self.fc1(x))\n",
        "    x = F.relu(self.fc2(x))\n",
        "    x = self.fc3(x)\n",
        "\n",
        "    return x"
      ],
      "metadata": {
        "id": "MdL6kSkDEJrH"
      },
      "execution_count": 23,
      "outputs": []
    },
    {
      "cell_type": "code",
      "source": [
        "cnn = CNN()"
      ],
      "metadata": {
        "id": "YUJKoNeyGY8K"
      },
      "execution_count": 24,
      "outputs": []
    },
    {
      "cell_type": "code",
      "source": [
        "# Transfer neural network to GPU\n",
        "cnn.to(device)"
      ],
      "metadata": {
        "colab": {
          "base_uri": "https://localhost:8080/"
        },
        "id": "gdodXrNcVRsc",
        "outputId": "57cbb5bc-b1ba-4c82-b8bf-b559c6f803df"
      },
      "execution_count": 25,
      "outputs": [
        {
          "output_type": "execute_result",
          "data": {
            "text/plain": [
              "CNN(\n",
              "  (conv1): Conv2d(3, 16, kernel_size=(3, 3), stride=(1, 1))\n",
              "  (pool): MaxPool2d(kernel_size=2, stride=2, padding=0, dilation=1, ceil_mode=False)\n",
              "  (conv2): Conv2d(16, 32, kernel_size=(3, 3), stride=(1, 1))\n",
              "  (fc1): Linear(in_features=1152, out_features=120, bias=True)\n",
              "  (fc2): Linear(in_features=120, out_features=84, bias=True)\n",
              "  (fc3): Linear(in_features=84, out_features=10, bias=True)\n",
              ")"
            ]
          },
          "metadata": {},
          "execution_count": 25
        }
      ]
    },
    {
      "cell_type": "code",
      "source": [
        "loss_function = nn.CrossEntropyLoss()\n",
        "optimizer = optim.Adam(cnn.parameters(), lr=0.001)"
      ],
      "metadata": {
        "id": "W04gCeZ1Gdgq"
      },
      "execution_count": 26,
      "outputs": []
    },
    {
      "cell_type": "markdown",
      "source": [
        "# **Training CNN**"
      ],
      "metadata": {
        "id": "nwezTxTRKq5s"
      }
    },
    {
      "cell_type": "code",
      "source": [
        "for epoch in range(TOTAL_EPOCHS):\n",
        "  running_loss = 0.0\n",
        "  for i, data in enumerate(train_loader, 0):\n",
        "    images, labels = data\n",
        "\n",
        "    # Transfer input and labels to GPU\n",
        "    images, labels = images.to(device), labels.to(device)\n",
        "\n",
        "    optimizer.zero_grad()\n",
        "    out = cnn(images)\n",
        "    loss = loss_function(out, labels)\n",
        "    loss.backward()\n",
        "    optimizer.step()\n",
        "\n",
        "    running_loss += loss.item()\n",
        "\n",
        "    # print statistics every 100th iteration\n",
        "    if i % 100 == 99:\n",
        "      print(f'[{epoch + 1}, {i + 1}] loss: {running_loss / 100:.3f}')\n",
        "      running_loss = 0.0\n",
        "\n",
        "print(\"Training Finished\")"
      ],
      "metadata": {
        "colab": {
          "base_uri": "https://localhost:8080/"
        },
        "collapsed": true,
        "id": "qULIQ4KqIERe",
        "outputId": "cf477466-7b86-440e-dccf-c1c106e8527f"
      },
      "execution_count": 27,
      "outputs": [
        {
          "output_type": "stream",
          "name": "stdout",
          "text": [
            "[1, 100] loss: 1.990\n",
            "[1, 200] loss: 1.667\n",
            "[1, 300] loss: 1.512\n",
            "[1, 400] loss: 1.420\n",
            "[1, 500] loss: 1.383\n",
            "[2, 100] loss: 1.341\n",
            "[2, 200] loss: 1.310\n",
            "[2, 300] loss: 1.258\n",
            "[2, 400] loss: 1.231\n",
            "[2, 500] loss: 1.201\n",
            "[3, 100] loss: 1.177\n",
            "[3, 200] loss: 1.129\n",
            "[3, 300] loss: 1.117\n",
            "[3, 400] loss: 1.104\n",
            "[3, 500] loss: 1.088\n",
            "[4, 100] loss: 1.045\n",
            "[4, 200] loss: 1.026\n",
            "[4, 300] loss: 1.029\n",
            "[4, 400] loss: 1.020\n",
            "[4, 500] loss: 1.009\n",
            "[5, 100] loss: 0.956\n",
            "[5, 200] loss: 0.965\n",
            "[5, 300] loss: 0.949\n",
            "[5, 400] loss: 0.939\n",
            "[5, 500] loss: 0.943\n",
            "[6, 100] loss: 0.890\n",
            "[6, 200] loss: 0.879\n",
            "[6, 300] loss: 0.906\n",
            "[6, 400] loss: 0.876\n",
            "[6, 500] loss: 0.887\n",
            "[7, 100] loss: 0.811\n",
            "[7, 200] loss: 0.829\n",
            "[7, 300] loss: 0.836\n",
            "[7, 400] loss: 0.843\n",
            "[7, 500] loss: 0.832\n",
            "[8, 100] loss: 0.765\n",
            "[8, 200] loss: 0.778\n",
            "[8, 300] loss: 0.777\n",
            "[8, 400] loss: 0.774\n",
            "[8, 500] loss: 0.771\n",
            "[9, 100] loss: 0.708\n",
            "[9, 200] loss: 0.721\n",
            "[9, 300] loss: 0.727\n",
            "[9, 400] loss: 0.730\n",
            "[9, 500] loss: 0.747\n",
            "[10, 100] loss: 0.650\n",
            "[10, 200] loss: 0.699\n",
            "[10, 300] loss: 0.705\n",
            "[10, 400] loss: 0.694\n",
            "[10, 500] loss: 0.689\n",
            "Training Finished\n"
          ]
        }
      ]
    },
    {
      "cell_type": "code",
      "source": [
        "torch.save(cnn.state_dict(), MODEL_PATH)"
      ],
      "metadata": {
        "id": "b-G7S0LALbX1"
      },
      "execution_count": 28,
      "outputs": []
    },
    {
      "cell_type": "markdown",
      "source": [
        "# Model testing"
      ],
      "metadata": {
        "id": "FDIZXc3CSsjq"
      }
    },
    {
      "cell_type": "code",
      "source": [
        "test_iter = iter(test_loader)\n",
        "images, labels = next(test_iter)\n",
        "images, labels = images[:9], labels[:9]"
      ],
      "metadata": {
        "id": "pHG_RR2lS2bp"
      },
      "execution_count": 29,
      "outputs": []
    },
    {
      "cell_type": "code",
      "source": [
        "# Load the saved model\n",
        "test_model = CNN().to(device)\n",
        "test_model.load_state_dict(torch.load(MODEL_PATH, weights_only=True))\n",
        "test_model.eval() # to set dropout and normalization layer ready for evaluation - we don't really need this in our case"
      ],
      "metadata": {
        "colab": {
          "base_uri": "https://localhost:8080/"
        },
        "id": "KFk9BKdxTH1y",
        "outputId": "911eb5b3-76f7-4476-e523-e57ed83bcffa"
      },
      "execution_count": 30,
      "outputs": [
        {
          "output_type": "execute_result",
          "data": {
            "text/plain": [
              "CNN(\n",
              "  (conv1): Conv2d(3, 16, kernel_size=(3, 3), stride=(1, 1))\n",
              "  (pool): MaxPool2d(kernel_size=2, stride=2, padding=0, dilation=1, ceil_mode=False)\n",
              "  (conv2): Conv2d(16, 32, kernel_size=(3, 3), stride=(1, 1))\n",
              "  (fc1): Linear(in_features=1152, out_features=120, bias=True)\n",
              "  (fc2): Linear(in_features=120, out_features=84, bias=True)\n",
              "  (fc3): Linear(in_features=84, out_features=10, bias=True)\n",
              ")"
            ]
          },
          "metadata": {},
          "execution_count": 30
        }
      ]
    },
    {
      "cell_type": "code",
      "source": [
        "total = 0\n",
        "correct = 0\n",
        "with torch.no_grad():\n",
        "  for data in test_loader:\n",
        "    images, labels = data\n",
        "    images, labels = images.to(device), labels.to(device)\n",
        "\n",
        "    outputs = test_model(images)\n",
        "    _, predicted = torch.max(outputs, 1)\n",
        "    total += labels.size(0)\n",
        "    correct += (predicted == labels).sum().item()\n",
        "\n",
        "print(f'Accuracy of model = {correct / total * 100}%')"
      ],
      "metadata": {
        "colab": {
          "base_uri": "https://localhost:8080/"
        },
        "id": "Jh7nGAIETpXf",
        "outputId": "d6d34b94-ffcc-470b-b363-f0555bd6e9e3"
      },
      "execution_count": 31,
      "outputs": [
        {
          "output_type": "stream",
          "name": "stdout",
          "text": [
            "Accuracy of model = 69.13%\n"
          ]
        }
      ]
    },
    {
      "cell_type": "code",
      "source": [
        "# Find label-wise accuracy\n",
        "total_per_class = torch.zeros(10)\n",
        "correct_per_class = torch.zeros(10)\n",
        "accuracy_per_class = torch.zeros(10)\n",
        "\n",
        "with torch.no_grad():\n",
        "  for data in test_loader:\n",
        "    images, labels = data\n",
        "    images, labels = images.to(device), labels.to(device)\n",
        "\n",
        "    outputs = test_model(images)\n",
        "    _, predicted = torch.max(outputs, 1)\n",
        "    for i in range(len(predicted)):\n",
        "      pred_label = predicted[i].item()\n",
        "      true_label = labels[i].item()\n",
        "\n",
        "      total_per_class[pred_label] += 1\n",
        "      if pred_label == true_label:\n",
        "        correct_per_class[pred_label] += 1\n",
        "\n",
        "  # calculate accuracy for every label\n",
        "  accuracy_per_class = torch.nan_to_num((correct_per_class / total_per_class) * 100, nan=0.0)\n",
        "  print(\"\".join(\n",
        "    f'Accuracy for {classes[i]} = {accuracy_per_class[i]:.2f}%\\n'\n",
        "    for i in range(total_per_class.size(0))\n",
        "    ))"
      ],
      "metadata": {
        "colab": {
          "base_uri": "https://localhost:8080/"
        },
        "id": "d5cFeJPEQ302",
        "outputId": "ac08e2dd-a6e3-4de3-e16d-9d314fe5cd03"
      },
      "execution_count": 32,
      "outputs": [
        {
          "output_type": "stream",
          "name": "stdout",
          "text": [
            "Accuracy for airplane = 70.84%\n",
            "Accuracy for automobile = 79.03%\n",
            "Accuracy for bird = 61.27%\n",
            "Accuracy for cat = 50.38%\n",
            "Accuracy for deer = 69.11%\n",
            "Accuracy for dog = 59.06%\n",
            "Accuracy for frog = 75.05%\n",
            "Accuracy for horse = 66.83%\n",
            "Accuracy for ship = 85.57%\n",
            "Accuracy for truck = 76.39%\n",
            "\n"
          ]
        }
      ]
    },
    {
      "cell_type": "code",
      "source": [],
      "metadata": {
        "id": "HlGIoEtXTMyz"
      },
      "execution_count": null,
      "outputs": []
    }
  ]
}